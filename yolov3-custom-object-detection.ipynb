{
 "cells": [
  {
   "cell_type": "markdown",
   "metadata": {
    "id": "dXzk2wo66wPR"
   },
   "source": [
    "# یکم - مدیریت جی پی یو"
   ]
  },
  {
   "cell_type": "code",
   "execution_count": null,
   "metadata": {
    "id": "vbErRvqd6aY5"
   },
   "outputs": [],
   "source": [
    "!nvidia-smi"
   ]
  },
  {
   "cell_type": "markdown",
   "metadata": {
    "id": "VqxF6z_Y_Nx3"
   },
   "source": [
    "# دوم - اتصال کولب و درایو"
   ]
  },
  {
   "cell_type": "code",
   "execution_count": null,
   "metadata": {
    "colab": {
     "base_uri": "https://localhost:8080/"
    },
    "executionInfo": {
     "elapsed": 783,
     "status": "ok",
     "timestamp": 1610269956232,
     "user": {
      "displayName": "Mostafa Asefy",
      "photoUrl": "https://lh3.googleusercontent.com/a-/AOh14GghAyzJdbRAWMJE3Aq34WfedfY4JtC7WJJp0jRN2g=s64",
      "userId": "10866195371040723108"
     },
     "user_tz": -210
    },
    "id": "vJI5VAaC_S4k",
    "outputId": "216571bd-49a1-48c6-d714-89a1cd911e8d"
   },
   "outputs": [],
   "source": [
    "from google.colab import drive\n",
    "drive.mount('/content/gdrive')\n",
    "\n",
    "!ln -s /content/gdrive/My\\ Drive/ /mydrive\n",
    "!ls /mydrive"
   ]
  },
  {
   "cell_type": "markdown",
   "metadata": {
    "id": "WQOSJi90Hisg"
   },
   "source": [
    "# سوم - نصب و تنظیم دارک نت"
   ]
  },
  {
   "cell_type": "code",
   "execution_count": null,
   "metadata": {
    "colab": {
     "base_uri": "https://localhost:8080/"
    },
    "executionInfo": {
     "elapsed": 3157,
     "status": "ok",
     "timestamp": 1610267586309,
     "user": {
      "displayName": "Mostafa Asefy",
      "photoUrl": "https://lh3.googleusercontent.com/a-/AOh14GghAyzJdbRAWMJE3Aq34WfedfY4JtC7WJJp0jRN2g=s64",
      "userId": "10866195371040723108"
     },
     "user_tz": -210
    },
    "id": "HY8rKJe6HnmH",
    "outputId": "7aabcbf6-601f-44d5-a105-b90e97421cba"
   },
   "outputs": [],
   "source": [
    "# Clone Darknet\n",
    "!git clone https://github.com/AlexeyAB/darknet.git"
   ]
  },
  {
   "cell_type": "code",
   "execution_count": null,
   "metadata": {
    "colab": {
     "base_uri": "https://localhost:8080/"
    },
    "executionInfo": {
     "elapsed": 1014,
     "status": "ok",
     "timestamp": 1610267589991,
     "user": {
      "displayName": "Mostafa Asefy",
      "photoUrl": "https://lh3.googleusercontent.com/a-/AOh14GghAyzJdbRAWMJE3Aq34WfedfY4JtC7WJJp0jRN2g=s64",
      "userId": "10866195371040723108"
     },
     "user_tz": -210
    },
    "id": "I7fANNTMLsIM",
    "outputId": "50736b1f-15f0-4c06-9e49-78bfd110b983"
   },
   "outputs": [],
   "source": [
    "# Configure Darknet\n",
    "%cd darknet\n",
    "!sed -i 's/OPENCV=0/OPENCV=1/' Makefile\n",
    "!sed -i 's/GPU=0/GPU=1/' Makefile\n",
    "!sed -i 's/CUDNN=0/CUDNN=1/' Makefile"
   ]
  },
  {
   "cell_type": "code",
   "execution_count": null,
   "metadata": {
    "colab": {
     "base_uri": "https://localhost:8080/"
    },
    "executionInfo": {
     "elapsed": 68831,
     "status": "ok",
     "timestamp": 1610267664682,
     "user": {
      "displayName": "Mostafa Asefy",
      "photoUrl": "https://lh3.googleusercontent.com/a-/AOh14GghAyzJdbRAWMJE3Aq34WfedfY4JtC7WJJp0jRN2g=s64",
      "userId": "10866195371040723108"
     },
     "user_tz": -210
    },
    "id": "SR_iASunMl9Y",
    "outputId": "0e0bc949-5f8c-4579-81a6-0944c7bf84fb"
   },
   "outputs": [],
   "source": [
    "# Compile DarkNet\n",
    "!make"
   ]
  },
  {
   "cell_type": "markdown",
   "metadata": {
    "id": "jYNKl_aKa2ue"
   },
   "source": [
    "# چهارم - تنظیمات یادگیری یولو"
   ]
  },
  {
   "cell_type": "code",
   "execution_count": null,
   "metadata": {
    "executionInfo": {
     "elapsed": 779,
     "status": "ok",
     "timestamp": 1610269982154,
     "user": {
      "displayName": "Mostafa Asefy",
      "photoUrl": "https://lh3.googleusercontent.com/a-/AOh14GghAyzJdbRAWMJE3Aq34WfedfY4JtC7WJJp0jRN2g=s64",
      "userId": "10866195371040723108"
     },
     "user_tz": -210
    },
    "id": "ZlpTJ4rAa97N"
   },
   "outputs": [],
   "source": [
    "# Make a copy of yolov3.cfg\n",
    "!cp cfg/yolov3.cfg cfg/yolov3_training.cfg"
   ]
  },
  {
   "cell_type": "code",
   "execution_count": null,
   "metadata": {
    "executionInfo": {
     "elapsed": 1416,
     "status": "ok",
     "timestamp": 1610269986389,
     "user": {
      "displayName": "Mostafa Asefy",
      "photoUrl": "https://lh3.googleusercontent.com/a-/AOh14GghAyzJdbRAWMJE3Aq34WfedfY4JtC7WJJp0jRN2g=s64",
      "userId": "10866195371040723108"
     },
     "user_tz": -210
    },
    "id": "5By3VDWscutv"
   },
   "outputs": [],
   "source": [
    "# Change lines in yolov3.cfg file\n",
    "!sed -i 's/batch=1/batch=64/' cfg/yolov3_training.cfg\n",
    "!sed -i 's/subdivisions=1/subdivisions=16/' cfg/yolov3_training.cfg\n",
    "!sed -i 's/max_batches = 500200/max_batches = 6000/' cfg/yolov3_training.cfg\n",
    "!sed -i '610 s@classes=80@classes=2@' cfg/yolov3_training.cfg\n",
    "!sed -i '696 s@classes=80@classes=2@' cfg/yolov3_training.cfg\n",
    "!sed -i '783 s@classes=80@classes=2@' cfg/yolov3_training.cfg\n",
    "!sed -i '603 s@filters=255@filters=21@' cfg/yolov3_training.cfg\n",
    "!sed -i '689 s@filters=255@filters=21@' cfg/yolov3_training.cfg\n",
    "!sed -i '776 s@filters=255@filters=21@' cfg/yolov3_training.cfg"
   ]
  },
  {
   "cell_type": "markdown",
   "metadata": {
    "id": "JXwti3J_kiKp"
   },
   "source": [
    "# پنجم - ایجاد فایل‌های فراخوانی و ذخیره سازی نتایج"
   ]
  },
  {
   "cell_type": "code",
   "execution_count": null,
   "metadata": {
    "executionInfo": {
     "elapsed": 1010,
     "status": "ok",
     "timestamp": 1610272172781,
     "user": {
      "displayName": "Mostafa Asefy",
      "photoUrl": "https://lh3.googleusercontent.com/a-/AOh14GghAyzJdbRAWMJE3Aq34WfedfY4JtC7WJJp0jRN2g=s64",
      "userId": "10866195371040723108"
     },
     "user_tz": -210
    },
    "id": "1Z428ue3lfF4"
   },
   "outputs": [],
   "source": [
    "# Create .names files\n",
    "!echo -e 'Wearing Mask\\nNot Wearing Mask' > data/obj.names\n"
   ]
  },
  {
   "cell_type": "code",
   "execution_count": null,
   "metadata": {
    "executionInfo": {
     "elapsed": 1010,
     "status": "ok",
     "timestamp": 1610272345988,
     "user": {
      "displayName": "Mostafa Asefy",
      "photoUrl": "https://lh3.googleusercontent.com/a-/AOh14GghAyzJdbRAWMJE3Aq34WfedfY4JtC7WJJp0jRN2g=s64",
      "userId": "10866195371040723108"
     },
     "user_tz": -210
    },
    "id": "slKUiFG9l6sH"
   },
   "outputs": [],
   "source": [
    "# Create .data file \n",
    "!echo -e 'classes= 2\\ntrain  = data/train.txt\\nvalid  = data/test.txt\\nnames = data/obj.names\\nbackup = /mydrive/yolov3' > data/obj.data"
   ]
  },
  {
   "cell_type": "markdown",
   "metadata": {
    "id": "MVda4Qf6zTt0"
   },
   "source": [
    "# ششم - معرفی نام و مسیر مجموعه عکس ها به یولو"
   ]
  },
  {
   "cell_type": "code",
   "execution_count": null,
   "metadata": {
    "colab": {
     "base_uri": "https://localhost:8080/"
    },
    "executionInfo": {
     "elapsed": 2513,
     "status": "ok",
     "timestamp": 1610274327376,
     "user": {
      "displayName": "Mostafa Asefy",
      "photoUrl": "https://lh3.googleusercontent.com/a-/AOh14GghAyzJdbRAWMJE3Aq34WfedfY4JtC7WJJp0jRN2g=s64",
      "userId": "10866195371040723108"
     },
     "user_tz": -210
    },
    "id": "tI2BPymvzcVX",
    "outputId": "7df0245d-0004-4d74-b551-2eb07ae67eab"
   },
   "outputs": [],
   "source": [
    "# Create a folder and unzip image dataset\n",
    "!mkdir data/obj\n",
    "!unzip /mydrive/yolov3/images.zip -d data/obj"
   ]
  },
  {
   "cell_type": "code",
   "execution_count": null,
   "metadata": {
    "executionInfo": {
     "elapsed": 1045,
     "status": "ok",
     "timestamp": 1610274523994,
     "user": {
      "displayName": "Mostafa Asefy",
      "photoUrl": "https://lh3.googleusercontent.com/a-/AOh14GghAyzJdbRAWMJE3Aq34WfedfY4JtC7WJJp0jRN2g=s64",
      "userId": "10866195371040723108"
     },
     "user_tz": -210
    },
    "id": "6uC9NHiR1Zk3"
   },
   "outputs": [],
   "source": [
    "# Create train.txt file\n",
    "import glob\n",
    "images_list = glob.glob(\"data/obj/*.jpg\")\n",
    "with open(\"data/train.txt\", \"w\") as f:\n",
    "    f.write(\"\\n\".join(images_list))"
   ]
  },
  {
   "cell_type": "markdown",
   "metadata": {
    "id": "KC3uhl824sQL"
   },
   "source": [
    "# هفتم - دریافت وزن های قبلی و آغاز یادگیری"
   ]
  },
  {
   "cell_type": "code",
   "execution_count": null,
   "metadata": {
    "colab": {
     "base_uri": "https://localhost:8080/"
    },
    "executionInfo": {
     "elapsed": 218487,
     "status": "ok",
     "timestamp": 1610276443608,
     "user": {
      "displayName": "Mostafa Asefy",
      "photoUrl": "https://lh3.googleusercontent.com/a-/AOh14GghAyzJdbRAWMJE3Aq34WfedfY4JtC7WJJp0jRN2g=s64",
      "userId": "10866195371040723108"
     },
     "user_tz": -210
    },
    "id": "LLVOr6Yq4zAQ",
    "outputId": "2b5c4059-2285-4921-d7e1-46def0d5ddc5"
   },
   "outputs": [],
   "source": [
    "# Download pre-trained weights for the convolutional layers file\n",
    "!wget https://pjreddie.com/media/files/darknet53.conv.74"
   ]
  },
  {
   "cell_type": "code",
   "execution_count": null,
   "metadata": {
    "colab": {
     "base_uri": "https://localhost:8080/"
    },
    "id": "7LecZVZK9Rrg",
    "outputId": "c27cb72a-1fc8-4c76-e7cf-30656f4fecf4"
   },
   "outputs": [],
   "source": [
    "# Start training\n",
    "!./darknet detector train data/obj.data cfg/yolov3_training.cfg darknet53.conv.74 -dont_show\n",
    "# !./darknet detector train data/obj.data cfg/yolov3_training.cfg /mydrive/yolov3/yolov3_training_last.weights -dont_show"
   ]
  }
 ],
 "metadata": {
  "accelerator": "GPU",
  "colab": {
   "authorship_tag": "ABX9TyPmErzoWfSPrsLkmrzsyYFJ",
   "name": "yolov3-custom-object-detection.ipynb",
   "provenance": []
  },
  "kernelspec": {
   "display_name": "Python 3",
   "language": "python",
   "name": "python3"
  },
  "language_info": {
   "codemirror_mode": {
    "name": "ipython",
    "version": 3
   },
   "file_extension": ".py",
   "mimetype": "text/x-python",
   "name": "python",
   "nbconvert_exporter": "python",
   "pygments_lexer": "ipython3",
   "version": "3.8.5"
  }
 },
 "nbformat": 4,
 "nbformat_minor": 1
}
